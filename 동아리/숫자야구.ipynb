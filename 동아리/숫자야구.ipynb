{
 "cells": [
  {
   "cell_type": "markdown",
   "source": [
    "## 숫자야구"
   ],
   "metadata": {}
  },
  {
   "cell_type": "code",
   "execution_count": 84,
   "source": [
    "import random\r\n",
    "pt = random.sample(range(1,10), 4)"
   ],
   "outputs": [],
   "metadata": {}
  },
  {
   "cell_type": "code",
   "execution_count": 85,
   "source": [
    "print(pt)"
   ],
   "outputs": [
    {
     "output_type": "stream",
     "name": "stdout",
     "text": [
      "[5, 6, 3, 1]\n"
     ]
    }
   ],
   "metadata": {}
  },
  {
   "cell_type": "code",
   "execution_count": 90,
   "source": [
    "## --------\r\n",
    "while ( strike < 4 ):\r\n",
    "    \r\n",
    "    num = str(input(\"숫자 : \"))\r\n",
    "\r\n",
    "    strike = 0\r\n",
    "    ball = 0\r\n",
    "\r\n",
    "    for i in range(4):\r\n",
    "        for j in range(4):\r\n",
    "            if(num[i] == str(pt[j]) and i == j):\r\n",
    "                strike += 1\r\n",
    "            elif(num[i] == str(pt[j]) and i != j):\r\n",
    "                ball += 1\r\n",
    "    print(\"결과 : [\", strike, \"] Strike [\", ball, \"] Ball\")\r\n",
    " "
   ],
   "outputs": [
    {
     "output_type": "stream",
     "name": "stdout",
     "text": [
      "결과 : [ 3 ] Strike [ 0 ] Ball\n",
      "결과 : [ 4 ] Strike [ 0 ] Ball\n"
     ]
    }
   ],
   "metadata": {}
  },
  {
   "cell_type": "code",
   "execution_count": null,
   "source": [],
   "outputs": [],
   "metadata": {}
  }
 ],
 "metadata": {
  "orig_nbformat": 4,
  "language_info": {
   "name": "python",
   "version": "3.8.8",
   "mimetype": "text/x-python",
   "codemirror_mode": {
    "name": "ipython",
    "version": 3
   },
   "pygments_lexer": "ipython3",
   "nbconvert_exporter": "python",
   "file_extension": ".py"
  },
  "kernelspec": {
   "name": "python3",
   "display_name": "Python 3.8.8 64-bit ('base': conda)"
  },
  "interpreter": {
   "hash": "b3ba2566441a7c06988d0923437866b63cedc61552a5af99d1f4fb67d367b25f"
  }
 },
 "nbformat": 4,
 "nbformat_minor": 2
}