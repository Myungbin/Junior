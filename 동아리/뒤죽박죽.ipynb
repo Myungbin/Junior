{
 "cells": [
  {
   "cell_type": "code",
   "execution_count": null,
   "metadata": {},
   "outputs": [],
   "source": [
    "import random\n",
    "word=['zoo','airplane','sun','apple','lion']\n",
    "for i in word:\n",
    "    r_word = list(i)\n",
    "    random.shuffle(r_word)\n",
    "    r_word = \"\".join(r_word)\n",
    "    a = input(f'{r_word}')\n",
    "    if i == a:\n",
    "        print(\"ok\")\n",
    "    else:\n",
    "        print(\"no\")"
   ]
  }
 ],
 "metadata": {
  "language_info": {
   "name": "python"
  },
  "orig_nbformat": 4
 },
 "nbformat": 4,
 "nbformat_minor": 2
}
